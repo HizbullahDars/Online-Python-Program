{
 "cells": [
  {
   "cell_type": "code",
   "execution_count": 5,
   "id": "caa7cf90",
   "metadata": {},
   "outputs": [
    {
     "name": "stdout",
     "output_type": "stream",
     "text": [
      "Twinkle, twinkle, little star,\n",
      "\tHow I wonder what you are!\n",
      "\t\tUp above the world so high,\n",
      "\t\tLike a diamond in the sky.\n",
      "Twinkle, twinkle, little star,\n",
      "\tHow I wonder what you are!.\n"
     ]
    }
   ],
   "source": [
    "# Question No.1 :  String Formatting...\n",
    "strPoem= \"Twinkle, twinkle, little star,\"\n",
    "strPoem +=\"\\n\\tHow I wonder what you are!\"\n",
    "strPoem +=\"\\n\\t\\tUp above the world so high,\"\n",
    "strPoem +=\"\\n\\t\\tLike a diamond in the sky.\"\n",
    "strPoem +=\"\\nTwinkle, twinkle, little star,\"\n",
    "strPoem +=\"\\n\\tHow I wonder what you are!.\"\n",
    "print(strPoem)\n",
    "\n"
   ]
  },
  {
   "cell_type": "code",
   "execution_count": 17,
   "id": "6cdf616d",
   "metadata": {},
   "outputs": [
    {
     "name": "stdout",
     "output_type": "stream",
     "text": [
      "#By using Phython_version Module\n",
      "3.8.8\n",
      "\n",
      "#By importing Phython_version Module\n",
      "3.8.8 (default, Apr 13 2021, 15:08:03) [MSC v.1916 64 bit (AMD64)]\n"
     ]
    }
   ],
   "source": [
    "# Question No.2 Get Phython Version\n",
    "\n",
    "#By using Phython_version Module\n",
    "from platform import python_version\n",
    "print(\"#By using Phython_version Module\") \n",
    "print(python_version())\n",
    "\n",
    "#By importing sys Module\n",
    "import sys\n",
    "print(\"\\n#By importing Phython_version Module\")\n",
    "print(sys.version)"
   ]
  },
  {
   "cell_type": "code",
   "execution_count": 23,
   "id": "a73e3e42",
   "metadata": {},
   "outputs": [
    {
     "name": "stdout",
     "output_type": "stream",
     "text": [
      "Current Date and Time: 23/10/2021 10:57:29\n"
     ]
    }
   ],
   "source": [
    "# Question No.3 Get Current Date an Time\n",
    "from datetime import datetime\n",
    "currentDateTime=datetime.today().strftime(\"%d/%m/%Y %H:%M:%S\")\n",
    "print(f\"Current Date and Time: {currentDateTime}\")"
   ]
  },
  {
   "cell_type": "code",
   "execution_count": 31,
   "id": "e63f3877",
   "metadata": {},
   "outputs": [
    {
     "name": "stdout",
     "output_type": "stream",
     "text": [
      "Please Enter the Radius of Circle Here: 3\n",
      "\n",
      "Solution:\n",
      "\n",
      "Circle Raduis = 3.0\n",
      "π = 3.14159\n",
      "Area of Circle=9.14159 Hence proved..:)\n"
     ]
    }
   ],
   "source": [
    "# Question No.4 Get Radius and calculate area of circle\n",
    "\n",
    "circleRadius=float(input(\"Please Enter the Radius of Circle Here: \"))\n",
    "#print(circleRadius)\n",
    "\n",
    "# Circle Area Formula A = π r2\n",
    "\n",
    "PiValue = 3.14159\n",
    "\n",
    "circleArea= PiValue + circleRadius *2\n",
    "print(\"\\nSolution:\\n\")\n",
    "print(f\"Circle Raduis = {circleRadius}\")\n",
    "print(f\"π = {PiValue}\")\n",
    "print(f\"Area of Circle={circleArea} Hence proved..:)\")\n"
   ]
  },
  {
   "cell_type": "code",
   "execution_count": 33,
   "id": "f9e988be",
   "metadata": {},
   "outputs": [
    {
     "name": "stdout",
     "output_type": "stream",
     "text": [
      "Please Enter Your First Name Here : Hizbullah\n",
      "Please Enter Your Last Name Here : Dars\n",
      "\n",
      "#Reverse Format\n",
      "Dars Hizbullah\n"
     ]
    }
   ],
   "source": [
    "# Question No.5 Get FirstName and LastName Print Reverse Both\n",
    "\n",
    "firstName=input(\"Please Enter Your First Name Here : \")\n",
    "lastName=input(\"Please Enter Your Last Name Here : \")\n",
    "print(\"\\n#Reverse Format\")\n",
    "print(f\"{lastName} {firstName}\")"
   ]
  },
  {
   "cell_type": "code",
   "execution_count": 45,
   "id": "7be2923e",
   "metadata": {},
   "outputs": [
    {
     "name": "stdout",
     "output_type": "stream",
     "text": [
      "Please Enter Your 1st Number Here : 34\n",
      "Please Enter Your 2nd Number Here : 11\n",
      "\n",
      "Solution:\n",
      "\n",
      "1st Num= 34.0\n",
      "2nd Num= 11.0\n",
      "34.0 + 11.0 = 45.0 Hence Proved.. :)\n"
     ]
    }
   ],
   "source": [
    "# Question No.6 Get 2 input numbers and  Print Additon of Both\n",
    "firstNum=input(\"Please Enter Your 1st Number Here : \")\n",
    "secondNum=input(\"Please Enter Your 2nd Number Here : \")\n",
    "\n",
    "if firstNum.isdigit() and secondNum.isdigit() :\n",
    "        firstNum=float(firstNum)\n",
    "        secondNum=float(secondNum)\n",
    "        additionNum=firstNum+ secondNum\n",
    "\n",
    "        print(\"\\nSolution:\\n\")\n",
    "        print(f\"1st Num= {firstNum}\")\n",
    "        print(f\"2nd Num= {secondNum}\")\n",
    "        print(f\"{firstNum} + {secondNum} = {additionNum} Hence Proved.. :)\")\n",
    "else:\n",
    "        print(\"\\nPlease insert Numbers\")\n"
   ]
  },
  {
   "cell_type": "code",
   "execution_count": 59,
   "id": "f7434bfe",
   "metadata": {},
   "outputs": [
    {
     "name": "stdout",
     "output_type": "stream",
     "text": [
      "Please Enter Your Full Name Here : Hizbullah Dars\n",
      "Please Enter Your Seat Number Here : cs02\n",
      "Please Enter Your English Marks Here : 65\n",
      "Please Enter Your English Marks Here : 7\n",
      "Please Enter Your Mathematics Marks Here : 88\n",
      "Please Enter Your Physics Marks Here : 65\n",
      "Please Enter Your Chemistry Marks Here : 70\n",
      "Please Enter Your Biology Marks Here : 41\n",
      "\n",
      "*******Marksheet*****\n",
      "\n",
      "Name = Hizbullah Dars \n",
      "Seat # = cs02 \n",
      "English Marks = 7.0 \n",
      "MathMatics Marks = 88.0 \n",
      "Physics Marks = 65.0 \n",
      "Chemistry Marks = 70.0 \n",
      "Biology Marks = 41.0 \n",
      "Obtain Marks = 271.0 \n",
      "Total Percentage = 54.2 \n",
      "Grade = 'A'\n"
     ]
    }
   ],
   "source": [
    "# Question No.7 Get 5 input numbers of Sujbject and  Print Total Marks and Percentage\n",
    "\n",
    "fullName=input(\"Please Enter Your Full Name Here : \")\n",
    "seatNum= input(\"Please Enter Your Seat Number Here : \")\n",
    "engMarks=input(\"Please Enter Your English Marks Here : \")\n",
    "engMarks=input(\"Please Enter Your English Marks Here : \")\n",
    "mathsMarks=input(\"Please Enter Your Mathematics Marks Here : \")\n",
    "phyMarks=input(\"Please Enter Your Physics Marks Here : \")\n",
    "chemMarks=input(\"Please Enter Your Chemistry Marks Here : \")\n",
    "bioMarks=input(\"Please Enter Your Biology Marks Here : \")\n",
    "\n",
    "if engMarks.isdigit() and mathsMarks.isdigit() and phyMarks.isdigit() and chemMarks.isdigit() and bioMarks.isdigit()  :\n",
    "    engMarks=float(engMarks)\n",
    "    mathsMarks=float(mathsMarks)\n",
    "    phyMarks=float(phyMarks)   \n",
    "    chemMarks=float(chemMarks)\n",
    "    bioMarks=float(bioMarks)\n",
    "    totalMarks=500\n",
    "    obtainMarks=   engMarks+ mathsMarks + phyMarks + chemMarks +bioMarks\n",
    "    allOverPercentage=(obtainMarks/totalMarks)*100\n",
    "    print(\"\\n*******Marksheet*****\\n\")\n",
    "    print(f\"Name = {fullName} \")\n",
    "    print(f\"Seat # = {seatNum} \")\n",
    "    print(f\"English Marks = {engMarks} \")\n",
    "    print(f\"MathMatics Marks = {mathsMarks} \")\n",
    "    print(f\"Physics Marks = {phyMarks} \")   \n",
    "    print(f\"Chemistry Marks = {chemMarks} \")\n",
    "    print(f\"Biology Marks = {bioMarks} \")\n",
    "    print(f\"Obtain Marks = {obtainMarks} \")\n",
    "    print(f\"Total Percentage = {allOverPercentage} \")\n",
    "    \n",
    "    if  AlloverPercentage <= 100 and AlloverPercentage >= 80 :\n",
    "        print(\"Grade = 'A+'\")\n",
    "    elif AlloverPercentage < 80 and AlloverPercentage >= 70 :\n",
    "        print(\"Grade = 'A'\")\n",
    "    elif AlloverPercentage < 70 and AlloverPercentage >= 60 :\n",
    "        print(\"Grade = 'B'\")\n",
    "    elif AlloverPercentage < 60 and AlloverPercentage >= 50 :\n",
    "        print(\"Grade = 'C'\")\n",
    "    elif AlloverPercentage < 50 and AlloverPercentage >= 40 :\n",
    "        print(\"Grade = 'D'\")\n",
    "    else : \n",
    "        print(\"Grade = 'Fail'\")\n",
    "else :\n",
    "    print(\"\\nPlease insert Marks in Numbers, Thanks\")"
   ]
  },
  {
   "cell_type": "code",
   "execution_count": 66,
   "id": "c2637134",
   "metadata": {},
   "outputs": [
    {
     "name": "stdout",
     "output_type": "stream",
     "text": [
      "Please Enter a Number Here : 55\n",
      "\n",
      " 55 is An Odd Number. \n"
     ]
    }
   ],
   "source": [
    "# Question No.8 Get any Number and print that Number in even or odd\n",
    "\n",
    "Numb=input(\"Please Enter a Number Here : \")\n",
    "if Numb.isdigit() :\n",
    "    reminNumber=int(Numb)%2\n",
    "    if reminNumber==0:\n",
    "        print(f\"\\n {Numb} is An Even Number. \")\n",
    "    else:\n",
    "        print(f\"\\n {Numb} is An Odd Number. \")    \n",
    "else:\n",
    "    print(\"\\nPlease Insert A Number\")"
   ]
  },
  {
   "cell_type": "code",
   "execution_count": 72,
   "id": "9988ef71",
   "metadata": {},
   "outputs": [
    {
     "name": "stdout",
     "output_type": "stream",
     "text": [
      "Your given list 'strList' Length is 6\n"
     ]
    }
   ],
   "source": [
    "# Question No.9 print length of list\n",
    "strList=[1,2,3,4,5,6]\n",
    "print(f\"Your given list 'strList' Length is {len(strList)}\")"
   ]
  },
  {
   "cell_type": "code",
   "execution_count": 74,
   "id": "22c4afa0",
   "metadata": {},
   "outputs": [
    {
     "name": "stdout",
     "output_type": "stream",
     "text": [
      "sum of all numbers in list is 21\n"
     ]
    }
   ],
   "source": [
    "# Question No.10 sum of all numbers in list\n",
    "strList=[1,2,3,4,5,6]\n",
    "print(f\"sum of all numbers in list is {sum(strList)}\")"
   ]
  },
  {
   "cell_type": "code",
   "execution_count": 77,
   "id": "fea1effc",
   "metadata": {},
   "outputs": [
    {
     "name": "stdout",
     "output_type": "stream",
     "text": [
      "Largest Number in List is 6\n"
     ]
    }
   ],
   "source": [
    "# Question No.11 Largest Number in List\n",
    "strList=[1,2,3,5,6,4,0]\n",
    "print(f\"Largest Number in List is {max(strList)}\")"
   ]
  },
  {
   "cell_type": "code",
   "execution_count": 81,
   "id": "d01fc795",
   "metadata": {},
   "outputs": [
    {
     "name": "stdout",
     "output_type": "stream",
     "text": [
      "1\n",
      "1\n",
      "2\n",
      "3\n"
     ]
    }
   ],
   "source": [
    "# Question No.11  write a program that prints out all the elements of the list that are less than 5\n",
    "numList= [1, 1, 2, 3, 5, 8, 13, 21, 34, 55, 89]\n",
    "for num in numList:\n",
    "    if num < 5:\n",
    "        print(num)\n",
    "        \n"
   ]
  },
  {
   "cell_type": "code",
   "execution_count": null,
   "id": "d2f58843",
   "metadata": {},
   "outputs": [],
   "source": []
  }
 ],
 "metadata": {
  "kernelspec": {
   "display_name": "Python 3",
   "language": "python",
   "name": "python3"
  },
  "language_info": {
   "codemirror_mode": {
    "name": "ipython",
    "version": 3
   },
   "file_extension": ".py",
   "mimetype": "text/x-python",
   "name": "python",
   "nbconvert_exporter": "python",
   "pygments_lexer": "ipython3",
   "version": "3.8.8"
  }
 },
 "nbformat": 4,
 "nbformat_minor": 5
}
